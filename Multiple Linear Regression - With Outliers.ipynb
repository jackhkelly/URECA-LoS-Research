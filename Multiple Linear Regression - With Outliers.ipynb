{
 "cells": [
  {
   "cell_type": "code",
   "execution_count": 10,
   "id": "ec3b5f6e",
   "metadata": {},
   "outputs": [],
   "source": [
    "#import the data frame\n",
    "import pandas as pd"
   ]
  },
  {
   "cell_type": "code",
   "execution_count": 11,
   "id": "5f7d45c8-b31d-401c-b172-8176cd5fdbe8",
   "metadata": {},
   "outputs": [],
   "source": [
    "df_w_outliers = pd.read_csv(r'/Users/jackkelly/Desktop/MTSU/URECA Research/MIMIC-IV/2024 Data Sets/Version_1_Data_Set_WITH_Outliers.csv')"
   ]
  },
  {
   "cell_type": "code",
   "execution_count": 12,
   "id": "694aa5a7-3a63-4d72-9bbf-45a25e73b844",
   "metadata": {},
   "outputs": [
    {
     "data": {
      "text/plain": [
       "Index(['subject_id', 'hadm_id', 'anchor_age', 'drg_severity', 'drg_mortality',\n",
       "       'gender_M', 'race_ASIAN', 'race_ASIAN - ASIAN INDIAN',\n",
       "       'race_ASIAN - CHINESE', 'race_ASIAN - KOREAN',\n",
       "       'race_ASIAN - SOUTH EAST ASIAN', 'race_BLACK/AFRICAN',\n",
       "       'race_BLACK/AFRICAN AMERICAN', 'race_BLACK/CAPE VERDEAN',\n",
       "       'race_BLACK/CARIBBEAN ISLAND', 'race_HISPANIC OR LATINO',\n",
       "       'race_HISPANIC/LATINO - CENTRAL AMERICAN',\n",
       "       'race_HISPANIC/LATINO - COLUMBIAN', 'race_HISPANIC/LATINO - CUBAN',\n",
       "       'race_HISPANIC/LATINO - DOMINICAN', 'race_HISPANIC/LATINO - GUATEMALAN',\n",
       "       'race_HISPANIC/LATINO - HONDURAN', 'race_HISPANIC/LATINO - MEXICAN',\n",
       "       'race_HISPANIC/LATINO - PUERTO RICAN',\n",
       "       'race_HISPANIC/LATINO - SALVADORAN', 'race_MULTIPLE RACE/ETHNICITY',\n",
       "       'race_NATIVE HAWAIIAN OR OTHER PACIFIC ISLANDER', 'race_OTHER',\n",
       "       'race_PATIENT DECLINED TO ANSWER', 'race_PORTUGUESE',\n",
       "       'race_SOUTH AMERICAN', 'race_UNABLE TO OBTAIN', 'race_UNKNOWN',\n",
       "       'race_WHITE', 'race_WHITE - BRAZILIAN', 'race_WHITE - EASTERN EUROPEAN',\n",
       "       'race_WHITE - OTHER EUROPEAN', 'race_WHITE - RUSSIAN',\n",
       "       'insurance_Medicare', 'insurance_Other', 'language_ENGLISH',\n",
       "       'marital_status_MARRIED', 'marital_status_SINGLE',\n",
       "       'marital_status_WIDOWED', 'admission_type_DIRECT EMER.',\n",
       "       'admission_type_DIRECT OBSERVATION', 'admission_type_ELECTIVE',\n",
       "       'admission_type_EU OBSERVATION', 'admission_type_EW EMER.',\n",
       "       'admission_type_OBSERVATION ADMIT',\n",
       "       'admission_type_SURGICAL SAME DAY ADMISSION', 'admission_type_URGENT',\n",
       "       'admission_location_CLINIC REFERRAL',\n",
       "       'admission_location_EMERGENCY ROOM',\n",
       "       'admission_location_INFORMATION NOT AVAILABLE',\n",
       "       'admission_location_INTERNAL TRANSFER TO OR FROM PSYCH',\n",
       "       'admission_location_PACU', 'admission_location_PHYSICIAN REFERRAL',\n",
       "       'admission_location_PROCEDURE SITE',\n",
       "       'admission_location_TRANSFER FROM HOSPITAL',\n",
       "       'admission_location_TRANSFER FROM SKILLED NURSING FACILITY',\n",
       "       'admission_location_WALK-IN/SELF REFERRAL',\n",
       "       'admit-edout_categories_admit_as_leaving_ED',\n",
       "       'admit-edout_categories_observation',\n",
       "       'admit-edout_categories_spent_no_time_in_ED',\n",
       "       'admit-edout_categories_quartiles_q2',\n",
       "       'admit-edout_categories_quartiles_q3',\n",
       "       'admit-edout_categories_quartiles_q4',\n",
       "       'admit-edout_categories_quartiles_spent_no_time_in_ED',\n",
       "       'length_of_stay', 'length_of_stay_hours'],\n",
       "      dtype='object')"
      ]
     },
     "execution_count": 12,
     "metadata": {},
     "output_type": "execute_result"
    }
   ],
   "source": [
    "df_w_outliers.columns"
   ]
  },
  {
   "cell_type": "code",
   "execution_count": 13,
   "id": "6ca44bb2-ef41-46b0-9a09-f5ae66a99ae2",
   "metadata": {},
   "outputs": [],
   "source": [
    "X = df_w_outliers.drop(columns=['length_of_stay', 'length_of_stay_hours'])"
   ]
  },
  {
   "cell_type": "code",
   "execution_count": 14,
   "id": "fcd4f5e2-31f7-4f87-b88a-6a1507369724",
   "metadata": {},
   "outputs": [],
   "source": [
    "y = df_w_outliers['length_of_stay_hours']"
   ]
  },
  {
   "cell_type": "code",
   "execution_count": 15,
   "id": "5549c2ad-f79f-45d9-a171-7309bb1004c9",
   "metadata": {},
   "outputs": [
    {
     "data": {
      "text/html": [
       "<div>\n",
       "<style scoped>\n",
       "    .dataframe tbody tr th:only-of-type {\n",
       "        vertical-align: middle;\n",
       "    }\n",
       "\n",
       "    .dataframe tbody tr th {\n",
       "        vertical-align: top;\n",
       "    }\n",
       "\n",
       "    .dataframe thead th {\n",
       "        text-align: right;\n",
       "    }\n",
       "</style>\n",
       "<table border=\"1\" class=\"dataframe\">\n",
       "  <thead>\n",
       "    <tr style=\"text-align: right;\">\n",
       "      <th></th>\n",
       "      <th>subject_id</th>\n",
       "      <th>hadm_id</th>\n",
       "      <th>anchor_age</th>\n",
       "      <th>drg_severity</th>\n",
       "      <th>drg_mortality</th>\n",
       "      <th>gender_M</th>\n",
       "      <th>race_ASIAN</th>\n",
       "      <th>race_ASIAN - ASIAN INDIAN</th>\n",
       "      <th>race_ASIAN - CHINESE</th>\n",
       "      <th>race_ASIAN - KOREAN</th>\n",
       "      <th>...</th>\n",
       "      <th>admission_location_TRANSFER FROM HOSPITAL</th>\n",
       "      <th>admission_location_TRANSFER FROM SKILLED NURSING FACILITY</th>\n",
       "      <th>admission_location_WALK-IN/SELF REFERRAL</th>\n",
       "      <th>admit-edout_categories_admit_as_leaving_ED</th>\n",
       "      <th>admit-edout_categories_observation</th>\n",
       "      <th>admit-edout_categories_spent_no_time_in_ED</th>\n",
       "      <th>admit-edout_categories_quartiles_q2</th>\n",
       "      <th>admit-edout_categories_quartiles_q3</th>\n",
       "      <th>admit-edout_categories_quartiles_q4</th>\n",
       "      <th>admit-edout_categories_quartiles_spent_no_time_in_ED</th>\n",
       "    </tr>\n",
       "  </thead>\n",
       "  <tbody>\n",
       "    <tr>\n",
       "      <th>0</th>\n",
       "      <td>10000032</td>\n",
       "      <td>22595853</td>\n",
       "      <td>52</td>\n",
       "      <td>2.0</td>\n",
       "      <td>2.0</td>\n",
       "      <td>0</td>\n",
       "      <td>0</td>\n",
       "      <td>0</td>\n",
       "      <td>0</td>\n",
       "      <td>0</td>\n",
       "      <td>...</td>\n",
       "      <td>1</td>\n",
       "      <td>0</td>\n",
       "      <td>0</td>\n",
       "      <td>0</td>\n",
       "      <td>0</td>\n",
       "      <td>0</td>\n",
       "      <td>0</td>\n",
       "      <td>1</td>\n",
       "      <td>0</td>\n",
       "      <td>0</td>\n",
       "    </tr>\n",
       "    <tr>\n",
       "      <th>1</th>\n",
       "      <td>10000032</td>\n",
       "      <td>22841357</td>\n",
       "      <td>52</td>\n",
       "      <td>3.0</td>\n",
       "      <td>2.0</td>\n",
       "      <td>0</td>\n",
       "      <td>0</td>\n",
       "      <td>0</td>\n",
       "      <td>0</td>\n",
       "      <td>0</td>\n",
       "      <td>...</td>\n",
       "      <td>0</td>\n",
       "      <td>0</td>\n",
       "      <td>0</td>\n",
       "      <td>0</td>\n",
       "      <td>0</td>\n",
       "      <td>0</td>\n",
       "      <td>0</td>\n",
       "      <td>0</td>\n",
       "      <td>0</td>\n",
       "      <td>0</td>\n",
       "    </tr>\n",
       "    <tr>\n",
       "      <th>2</th>\n",
       "      <td>10000032</td>\n",
       "      <td>25742920</td>\n",
       "      <td>52</td>\n",
       "      <td>3.0</td>\n",
       "      <td>2.0</td>\n",
       "      <td>0</td>\n",
       "      <td>0</td>\n",
       "      <td>0</td>\n",
       "      <td>0</td>\n",
       "      <td>0</td>\n",
       "      <td>...</td>\n",
       "      <td>0</td>\n",
       "      <td>0</td>\n",
       "      <td>0</td>\n",
       "      <td>0</td>\n",
       "      <td>0</td>\n",
       "      <td>0</td>\n",
       "      <td>1</td>\n",
       "      <td>0</td>\n",
       "      <td>0</td>\n",
       "      <td>0</td>\n",
       "    </tr>\n",
       "    <tr>\n",
       "      <th>3</th>\n",
       "      <td>10000032</td>\n",
       "      <td>29079034</td>\n",
       "      <td>52</td>\n",
       "      <td>3.0</td>\n",
       "      <td>3.0</td>\n",
       "      <td>0</td>\n",
       "      <td>0</td>\n",
       "      <td>0</td>\n",
       "      <td>0</td>\n",
       "      <td>0</td>\n",
       "      <td>...</td>\n",
       "      <td>0</td>\n",
       "      <td>0</td>\n",
       "      <td>0</td>\n",
       "      <td>0</td>\n",
       "      <td>0</td>\n",
       "      <td>0</td>\n",
       "      <td>0</td>\n",
       "      <td>1</td>\n",
       "      <td>0</td>\n",
       "      <td>0</td>\n",
       "    </tr>\n",
       "    <tr>\n",
       "      <th>4</th>\n",
       "      <td>10000084</td>\n",
       "      <td>23052089</td>\n",
       "      <td>72</td>\n",
       "      <td>1.0</td>\n",
       "      <td>1.0</td>\n",
       "      <td>1</td>\n",
       "      <td>0</td>\n",
       "      <td>0</td>\n",
       "      <td>0</td>\n",
       "      <td>0</td>\n",
       "      <td>...</td>\n",
       "      <td>0</td>\n",
       "      <td>0</td>\n",
       "      <td>1</td>\n",
       "      <td>0</td>\n",
       "      <td>0</td>\n",
       "      <td>0</td>\n",
       "      <td>0</td>\n",
       "      <td>1</td>\n",
       "      <td>0</td>\n",
       "      <td>0</td>\n",
       "    </tr>\n",
       "    <tr>\n",
       "      <th>...</th>\n",
       "      <td>...</td>\n",
       "      <td>...</td>\n",
       "      <td>...</td>\n",
       "      <td>...</td>\n",
       "      <td>...</td>\n",
       "      <td>...</td>\n",
       "      <td>...</td>\n",
       "      <td>...</td>\n",
       "      <td>...</td>\n",
       "      <td>...</td>\n",
       "      <td>...</td>\n",
       "      <td>...</td>\n",
       "      <td>...</td>\n",
       "      <td>...</td>\n",
       "      <td>...</td>\n",
       "      <td>...</td>\n",
       "      <td>...</td>\n",
       "      <td>...</td>\n",
       "      <td>...</td>\n",
       "      <td>...</td>\n",
       "      <td>...</td>\n",
       "    </tr>\n",
       "    <tr>\n",
       "      <th>292346</th>\n",
       "      <td>19999784</td>\n",
       "      <td>29956342</td>\n",
       "      <td>57</td>\n",
       "      <td>2.0</td>\n",
       "      <td>2.0</td>\n",
       "      <td>1</td>\n",
       "      <td>0</td>\n",
       "      <td>0</td>\n",
       "      <td>0</td>\n",
       "      <td>0</td>\n",
       "      <td>...</td>\n",
       "      <td>0</td>\n",
       "      <td>0</td>\n",
       "      <td>0</td>\n",
       "      <td>0</td>\n",
       "      <td>0</td>\n",
       "      <td>1</td>\n",
       "      <td>0</td>\n",
       "      <td>0</td>\n",
       "      <td>0</td>\n",
       "      <td>1</td>\n",
       "    </tr>\n",
       "    <tr>\n",
       "      <th>292347</th>\n",
       "      <td>19999828</td>\n",
       "      <td>25744818</td>\n",
       "      <td>46</td>\n",
       "      <td>3.0</td>\n",
       "      <td>2.0</td>\n",
       "      <td>0</td>\n",
       "      <td>0</td>\n",
       "      <td>0</td>\n",
       "      <td>0</td>\n",
       "      <td>0</td>\n",
       "      <td>...</td>\n",
       "      <td>1</td>\n",
       "      <td>0</td>\n",
       "      <td>0</td>\n",
       "      <td>0</td>\n",
       "      <td>0</td>\n",
       "      <td>0</td>\n",
       "      <td>0</td>\n",
       "      <td>1</td>\n",
       "      <td>0</td>\n",
       "      <td>0</td>\n",
       "    </tr>\n",
       "    <tr>\n",
       "      <th>292348</th>\n",
       "      <td>19999840</td>\n",
       "      <td>21033226</td>\n",
       "      <td>58</td>\n",
       "      <td>4.0</td>\n",
       "      <td>4.0</td>\n",
       "      <td>1</td>\n",
       "      <td>0</td>\n",
       "      <td>0</td>\n",
       "      <td>0</td>\n",
       "      <td>0</td>\n",
       "      <td>...</td>\n",
       "      <td>0</td>\n",
       "      <td>0</td>\n",
       "      <td>0</td>\n",
       "      <td>0</td>\n",
       "      <td>0</td>\n",
       "      <td>0</td>\n",
       "      <td>0</td>\n",
       "      <td>0</td>\n",
       "      <td>1</td>\n",
       "      <td>0</td>\n",
       "    </tr>\n",
       "    <tr>\n",
       "      <th>292349</th>\n",
       "      <td>19999840</td>\n",
       "      <td>26071774</td>\n",
       "      <td>58</td>\n",
       "      <td>2.0</td>\n",
       "      <td>1.0</td>\n",
       "      <td>1</td>\n",
       "      <td>0</td>\n",
       "      <td>0</td>\n",
       "      <td>0</td>\n",
       "      <td>0</td>\n",
       "      <td>...</td>\n",
       "      <td>0</td>\n",
       "      <td>0</td>\n",
       "      <td>0</td>\n",
       "      <td>0</td>\n",
       "      <td>0</td>\n",
       "      <td>0</td>\n",
       "      <td>0</td>\n",
       "      <td>0</td>\n",
       "      <td>1</td>\n",
       "      <td>0</td>\n",
       "    </tr>\n",
       "    <tr>\n",
       "      <th>292350</th>\n",
       "      <td>19999987</td>\n",
       "      <td>23865745</td>\n",
       "      <td>57</td>\n",
       "      <td>4.0</td>\n",
       "      <td>4.0</td>\n",
       "      <td>0</td>\n",
       "      <td>0</td>\n",
       "      <td>0</td>\n",
       "      <td>0</td>\n",
       "      <td>0</td>\n",
       "      <td>...</td>\n",
       "      <td>0</td>\n",
       "      <td>0</td>\n",
       "      <td>0</td>\n",
       "      <td>0</td>\n",
       "      <td>0</td>\n",
       "      <td>0</td>\n",
       "      <td>0</td>\n",
       "      <td>1</td>\n",
       "      <td>0</td>\n",
       "      <td>0</td>\n",
       "    </tr>\n",
       "  </tbody>\n",
       "</table>\n",
       "<p>292351 rows × 69 columns</p>\n",
       "</div>"
      ],
      "text/plain": [
       "        subject_id   hadm_id  anchor_age  drg_severity  drg_mortality  \\\n",
       "0         10000032  22595853          52           2.0            2.0   \n",
       "1         10000032  22841357          52           3.0            2.0   \n",
       "2         10000032  25742920          52           3.0            2.0   \n",
       "3         10000032  29079034          52           3.0            3.0   \n",
       "4         10000084  23052089          72           1.0            1.0   \n",
       "...            ...       ...         ...           ...            ...   \n",
       "292346    19999784  29956342          57           2.0            2.0   \n",
       "292347    19999828  25744818          46           3.0            2.0   \n",
       "292348    19999840  21033226          58           4.0            4.0   \n",
       "292349    19999840  26071774          58           2.0            1.0   \n",
       "292350    19999987  23865745          57           4.0            4.0   \n",
       "\n",
       "        gender_M  race_ASIAN  race_ASIAN - ASIAN INDIAN  race_ASIAN - CHINESE  \\\n",
       "0              0           0                          0                     0   \n",
       "1              0           0                          0                     0   \n",
       "2              0           0                          0                     0   \n",
       "3              0           0                          0                     0   \n",
       "4              1           0                          0                     0   \n",
       "...          ...         ...                        ...                   ...   \n",
       "292346         1           0                          0                     0   \n",
       "292347         0           0                          0                     0   \n",
       "292348         1           0                          0                     0   \n",
       "292349         1           0                          0                     0   \n",
       "292350         0           0                          0                     0   \n",
       "\n",
       "        race_ASIAN - KOREAN  ...  admission_location_TRANSFER FROM HOSPITAL  \\\n",
       "0                         0  ...                                          1   \n",
       "1                         0  ...                                          0   \n",
       "2                         0  ...                                          0   \n",
       "3                         0  ...                                          0   \n",
       "4                         0  ...                                          0   \n",
       "...                     ...  ...                                        ...   \n",
       "292346                    0  ...                                          0   \n",
       "292347                    0  ...                                          1   \n",
       "292348                    0  ...                                          0   \n",
       "292349                    0  ...                                          0   \n",
       "292350                    0  ...                                          0   \n",
       "\n",
       "        admission_location_TRANSFER FROM SKILLED NURSING FACILITY  \\\n",
       "0                                                       0           \n",
       "1                                                       0           \n",
       "2                                                       0           \n",
       "3                                                       0           \n",
       "4                                                       0           \n",
       "...                                                   ...           \n",
       "292346                                                  0           \n",
       "292347                                                  0           \n",
       "292348                                                  0           \n",
       "292349                                                  0           \n",
       "292350                                                  0           \n",
       "\n",
       "        admission_location_WALK-IN/SELF REFERRAL  \\\n",
       "0                                              0   \n",
       "1                                              0   \n",
       "2                                              0   \n",
       "3                                              0   \n",
       "4                                              1   \n",
       "...                                          ...   \n",
       "292346                                         0   \n",
       "292347                                         0   \n",
       "292348                                         0   \n",
       "292349                                         0   \n",
       "292350                                         0   \n",
       "\n",
       "        admit-edout_categories_admit_as_leaving_ED  \\\n",
       "0                                                0   \n",
       "1                                                0   \n",
       "2                                                0   \n",
       "3                                                0   \n",
       "4                                                0   \n",
       "...                                            ...   \n",
       "292346                                           0   \n",
       "292347                                           0   \n",
       "292348                                           0   \n",
       "292349                                           0   \n",
       "292350                                           0   \n",
       "\n",
       "        admit-edout_categories_observation  \\\n",
       "0                                        0   \n",
       "1                                        0   \n",
       "2                                        0   \n",
       "3                                        0   \n",
       "4                                        0   \n",
       "...                                    ...   \n",
       "292346                                   0   \n",
       "292347                                   0   \n",
       "292348                                   0   \n",
       "292349                                   0   \n",
       "292350                                   0   \n",
       "\n",
       "        admit-edout_categories_spent_no_time_in_ED  \\\n",
       "0                                                0   \n",
       "1                                                0   \n",
       "2                                                0   \n",
       "3                                                0   \n",
       "4                                                0   \n",
       "...                                            ...   \n",
       "292346                                           1   \n",
       "292347                                           0   \n",
       "292348                                           0   \n",
       "292349                                           0   \n",
       "292350                                           0   \n",
       "\n",
       "        admit-edout_categories_quartiles_q2  \\\n",
       "0                                         0   \n",
       "1                                         0   \n",
       "2                                         1   \n",
       "3                                         0   \n",
       "4                                         0   \n",
       "...                                     ...   \n",
       "292346                                    0   \n",
       "292347                                    0   \n",
       "292348                                    0   \n",
       "292349                                    0   \n",
       "292350                                    0   \n",
       "\n",
       "        admit-edout_categories_quartiles_q3  \\\n",
       "0                                         1   \n",
       "1                                         0   \n",
       "2                                         0   \n",
       "3                                         1   \n",
       "4                                         1   \n",
       "...                                     ...   \n",
       "292346                                    0   \n",
       "292347                                    1   \n",
       "292348                                    0   \n",
       "292349                                    0   \n",
       "292350                                    1   \n",
       "\n",
       "        admit-edout_categories_quartiles_q4  \\\n",
       "0                                         0   \n",
       "1                                         0   \n",
       "2                                         0   \n",
       "3                                         0   \n",
       "4                                         0   \n",
       "...                                     ...   \n",
       "292346                                    0   \n",
       "292347                                    0   \n",
       "292348                                    1   \n",
       "292349                                    1   \n",
       "292350                                    0   \n",
       "\n",
       "        admit-edout_categories_quartiles_spent_no_time_in_ED  \n",
       "0                                                       0     \n",
       "1                                                       0     \n",
       "2                                                       0     \n",
       "3                                                       0     \n",
       "4                                                       0     \n",
       "...                                                   ...     \n",
       "292346                                                  1     \n",
       "292347                                                  0     \n",
       "292348                                                  0     \n",
       "292349                                                  0     \n",
       "292350                                                  0     \n",
       "\n",
       "[292351 rows x 69 columns]"
      ]
     },
     "execution_count": 15,
     "metadata": {},
     "output_type": "execute_result"
    }
   ],
   "source": [
    "X"
   ]
  },
  {
   "cell_type": "code",
   "execution_count": 16,
   "id": "e71e54dd-23fe-4096-b5ca-6080fc0223db",
   "metadata": {},
   "outputs": [
    {
     "data": {
      "text/plain": [
       "0          18.866667\n",
       "1          24.366667\n",
       "2          42.100000\n",
       "3          53.333333\n",
       "4         108.933333\n",
       "             ...    \n",
       "292346    132.733333\n",
       "292347    240.266667\n",
       "292348    167.916667\n",
       "292349     83.800000\n",
       "292350    207.316667\n",
       "Name: length_of_stay_hours, Length: 292351, dtype: float64"
      ]
     },
     "execution_count": 16,
     "metadata": {},
     "output_type": "execute_result"
    }
   ],
   "source": [
    "y"
   ]
  },
  {
   "cell_type": "code",
   "execution_count": 17,
   "id": "b6477995-bb82-4eb2-9ee0-0d2cc37c2068",
   "metadata": {},
   "outputs": [],
   "source": [
    "from sklearn.model_selection import train_test_split"
   ]
  },
  {
   "cell_type": "code",
   "execution_count": 18,
   "id": "f743ab87-f19b-4cea-af4d-6e81136e08e0",
   "metadata": {},
   "outputs": [],
   "source": [
    "X_train, X_test, y_train, y_test = train_test_split(X, y, test_size=0.2, random_state=0)"
   ]
  },
  {
   "cell_type": "code",
   "execution_count": 19,
   "id": "cdcdddde-fd60-45db-bb59-09eff677749b",
   "metadata": {},
   "outputs": [],
   "source": [
    "from sklearn.linear_model import LinearRegression"
   ]
  },
  {
   "cell_type": "code",
   "execution_count": 39,
   "id": "36c2c9ce-c47e-410e-8690-76d8cc7c3a96",
   "metadata": {},
   "outputs": [
    {
     "ename": "NameError",
     "evalue": "name 'RandomForestRegressor' is not defined",
     "output_type": "error",
     "traceback": [
      "\u001b[0;31m---------------------------------------------------------------------------\u001b[0m",
      "\u001b[0;31mNameError\u001b[0m                                 Traceback (most recent call last)",
      "Cell \u001b[0;32mIn[39], line 1\u001b[0m\n\u001b[0;32m----> 1\u001b[0m lr \u001b[38;5;241m=\u001b[39m \u001b[43mRandomForestRegressor\u001b[49m(random_state\u001b[38;5;241m=\u001b[39m\u001b[38;5;241m42\u001b[39m, n_jobs\u001b[38;5;241m=\u001b[39m\u001b[38;5;241m-\u001b[39m\u001b[38;5;241m1\u001b[39m, max_depth\u001b[38;5;241m=\u001b[39m\u001b[38;5;241m5\u001b[39m,\n\u001b[1;32m      2\u001b[0m                                        n_estimators\u001b[38;5;241m=\u001b[39m\u001b[38;5;241m100\u001b[39m, oob_score\u001b[38;5;241m=\u001b[39m\u001b[38;5;28;01mTrue\u001b[39;00m)\n",
      "\u001b[0;31mNameError\u001b[0m: name 'RandomForestRegressor' is not defined"
     ]
    }
   ],
   "source": [
    "lr = LinearRegression()"
   ]
  },
  {
   "cell_type": "code",
   "execution_count": 21,
   "id": "dfb530b8-c410-483f-a0b3-e8c58e3de5d9",
   "metadata": {},
   "outputs": [
    {
     "data": {
      "text/html": [
       "<style>#sk-container-id-1 {color: black;background-color: white;}#sk-container-id-1 pre{padding: 0;}#sk-container-id-1 div.sk-toggleable {background-color: white;}#sk-container-id-1 label.sk-toggleable__label {cursor: pointer;display: block;width: 100%;margin-bottom: 0;padding: 0.3em;box-sizing: border-box;text-align: center;}#sk-container-id-1 label.sk-toggleable__label-arrow:before {content: \"▸\";float: left;margin-right: 0.25em;color: #696969;}#sk-container-id-1 label.sk-toggleable__label-arrow:hover:before {color: black;}#sk-container-id-1 div.sk-estimator:hover label.sk-toggleable__label-arrow:before {color: black;}#sk-container-id-1 div.sk-toggleable__content {max-height: 0;max-width: 0;overflow: hidden;text-align: left;background-color: #f0f8ff;}#sk-container-id-1 div.sk-toggleable__content pre {margin: 0.2em;color: black;border-radius: 0.25em;background-color: #f0f8ff;}#sk-container-id-1 input.sk-toggleable__control:checked~div.sk-toggleable__content {max-height: 200px;max-width: 100%;overflow: auto;}#sk-container-id-1 input.sk-toggleable__control:checked~label.sk-toggleable__label-arrow:before {content: \"▾\";}#sk-container-id-1 div.sk-estimator input.sk-toggleable__control:checked~label.sk-toggleable__label {background-color: #d4ebff;}#sk-container-id-1 div.sk-label input.sk-toggleable__control:checked~label.sk-toggleable__label {background-color: #d4ebff;}#sk-container-id-1 input.sk-hidden--visually {border: 0;clip: rect(1px 1px 1px 1px);clip: rect(1px, 1px, 1px, 1px);height: 1px;margin: -1px;overflow: hidden;padding: 0;position: absolute;width: 1px;}#sk-container-id-1 div.sk-estimator {font-family: monospace;background-color: #f0f8ff;border: 1px dotted black;border-radius: 0.25em;box-sizing: border-box;margin-bottom: 0.5em;}#sk-container-id-1 div.sk-estimator:hover {background-color: #d4ebff;}#sk-container-id-1 div.sk-parallel-item::after {content: \"\";width: 100%;border-bottom: 1px solid gray;flex-grow: 1;}#sk-container-id-1 div.sk-label:hover label.sk-toggleable__label {background-color: #d4ebff;}#sk-container-id-1 div.sk-serial::before {content: \"\";position: absolute;border-left: 1px solid gray;box-sizing: border-box;top: 0;bottom: 0;left: 50%;z-index: 0;}#sk-container-id-1 div.sk-serial {display: flex;flex-direction: column;align-items: center;background-color: white;padding-right: 0.2em;padding-left: 0.2em;position: relative;}#sk-container-id-1 div.sk-item {position: relative;z-index: 1;}#sk-container-id-1 div.sk-parallel {display: flex;align-items: stretch;justify-content: center;background-color: white;position: relative;}#sk-container-id-1 div.sk-item::before, #sk-container-id-1 div.sk-parallel-item::before {content: \"\";position: absolute;border-left: 1px solid gray;box-sizing: border-box;top: 0;bottom: 0;left: 50%;z-index: -1;}#sk-container-id-1 div.sk-parallel-item {display: flex;flex-direction: column;z-index: 1;position: relative;background-color: white;}#sk-container-id-1 div.sk-parallel-item:first-child::after {align-self: flex-end;width: 50%;}#sk-container-id-1 div.sk-parallel-item:last-child::after {align-self: flex-start;width: 50%;}#sk-container-id-1 div.sk-parallel-item:only-child::after {width: 0;}#sk-container-id-1 div.sk-dashed-wrapped {border: 1px dashed gray;margin: 0 0.4em 0.5em 0.4em;box-sizing: border-box;padding-bottom: 0.4em;background-color: white;}#sk-container-id-1 div.sk-label label {font-family: monospace;font-weight: bold;display: inline-block;line-height: 1.2em;}#sk-container-id-1 div.sk-label-container {text-align: center;}#sk-container-id-1 div.sk-container {/* jupyter's `normalize.less` sets `[hidden] { display: none; }` but bootstrap.min.css set `[hidden] { display: none !important; }` so we also need the `!important` here to be able to override the default hidden behavior on the sphinx rendered scikit-learn.org. See: https://github.com/scikit-learn/scikit-learn/issues/21755 */display: inline-block !important;position: relative;}#sk-container-id-1 div.sk-text-repr-fallback {display: none;}</style><div id=\"sk-container-id-1\" class=\"sk-top-container\"><div class=\"sk-text-repr-fallback\"><pre>LinearRegression()</pre><b>In a Jupyter environment, please rerun this cell to show the HTML representation or trust the notebook. <br />On GitHub, the HTML representation is unable to render, please try loading this page with nbviewer.org.</b></div><div class=\"sk-container\" hidden><div class=\"sk-item\"><div class=\"sk-estimator sk-toggleable\"><input class=\"sk-toggleable__control sk-hidden--visually\" id=\"sk-estimator-id-1\" type=\"checkbox\" checked><label for=\"sk-estimator-id-1\" class=\"sk-toggleable__label sk-toggleable__label-arrow\">LinearRegression</label><div class=\"sk-toggleable__content\"><pre>LinearRegression()</pre></div></div></div></div></div>"
      ],
      "text/plain": [
       "LinearRegression()"
      ]
     },
     "execution_count": 21,
     "metadata": {},
     "output_type": "execute_result"
    }
   ],
   "source": [
    "lr.fit(X_train, y_train)"
   ]
  },
  {
   "cell_type": "code",
   "execution_count": 22,
   "id": "0ddfc1a1-9f6f-4fac-9ef6-74d053fc687b",
   "metadata": {},
   "outputs": [
    {
     "data": {
      "text/plain": [
       "0.17742813078326458"
      ]
     },
     "execution_count": 22,
     "metadata": {},
     "output_type": "execute_result"
    }
   ],
   "source": [
    "lr.score(X_test, y_test)"
   ]
  },
  {
   "cell_type": "code",
   "execution_count": 23,
   "id": "60b6f005-075e-4b50-8ad7-0959f1196535",
   "metadata": {},
   "outputs": [
    {
     "data": {
      "text/plain": [
       "0.1780551230947679"
      ]
     },
     "execution_count": 23,
     "metadata": {},
     "output_type": "execute_result"
    }
   ],
   "source": [
    "lr.score(X_train, y_train)"
   ]
  },
  {
   "cell_type": "code",
   "execution_count": 24,
   "id": "8a616c93-fc7c-453d-8736-96bacc31c143",
   "metadata": {},
   "outputs": [],
   "source": [
    "from sklearn.metrics import mean_absolute_error, mean_squared_error, r2_score"
   ]
  },
  {
   "cell_type": "code",
   "execution_count": 25,
   "id": "64426f6f-4899-4816-a110-cfa43c28301b",
   "metadata": {},
   "outputs": [],
   "source": [
    "y_pred = lr.predict(X_test)"
   ]
  },
  {
   "cell_type": "code",
   "execution_count": 26,
   "id": "fc2a8942-3191-4007-b384-048d4c344325",
   "metadata": {},
   "outputs": [
    {
     "data": {
      "text/plain": [
       "83.55927502693703"
      ]
     },
     "execution_count": 26,
     "metadata": {},
     "output_type": "execute_result"
    }
   ],
   "source": [
    "mean_absolute_error(y_test, y_pred)"
   ]
  },
  {
   "cell_type": "code",
   "execution_count": 27,
   "id": "e657f1ad-92bd-4429-ba27-be95974bf5eb",
   "metadata": {},
   "outputs": [
    {
     "data": {
      "text/plain": [
       "24081.001490776307"
      ]
     },
     "execution_count": 27,
     "metadata": {},
     "output_type": "execute_result"
    }
   ],
   "source": [
    "mean_squared_error(y_test, y_pred)"
   ]
  },
  {
   "cell_type": "code",
   "execution_count": 28,
   "id": "665af5d0-1d24-4801-a08c-e9bb7bc96043",
   "metadata": {
    "scrolled": true
   },
   "outputs": [
    {
     "data": {
      "text/plain": [
       "0.17742813078326458"
      ]
     },
     "execution_count": 28,
     "metadata": {},
     "output_type": "execute_result"
    }
   ],
   "source": [
    "r2_score(y_test, y_pred)"
   ]
  },
  {
   "cell_type": "code",
   "execution_count": 29,
   "id": "75742e5c-dce3-499f-b30c-b412b7d5e9d0",
   "metadata": {
    "scrolled": true
   },
   "outputs": [
    {
     "data": {
      "text/plain": [
       "array([-4.56510365e-09,  2.82263685e-08, -5.58872445e-01,  5.25043794e+01,\n",
       "        2.64664093e+01, -4.28253286e-01,  4.07548168e+00,  2.06909249e+01,\n",
       "       -1.98942127e+00,  1.62719364e+00,  1.20592119e-01,  1.01739918e+01,\n",
       "       -6.72523972e+00, -7.02396418e+00,  1.51840037e+01, -1.94278032e+01,\n",
       "       -1.16025159e+01, -1.92945063e+01, -2.99286510e+00, -2.57214429e+00,\n",
       "       -3.64654854e+00, -1.18801859e+01, -6.08132637e+00, -1.01482940e+01,\n",
       "       -7.57272195e+00, -7.46916244e+00, -2.11011032e+01, -2.12556291e+00,\n",
       "        1.34593600e+00,  1.33225609e+01, -7.44522848e+00,  3.01812906e+00,\n",
       "        8.61961357e+00, -2.25448115e-01,  7.41956879e+00, -9.54815213e+00,\n",
       "        1.72891358e+00, -1.35533362e+01, -1.08338236e+01, -4.50342838e+00,\n",
       "       -1.25104616e+01, -9.74240890e+00, -1.36369270e+00, -1.59362418e+01,\n",
       "        6.16737814e+01, -9.41254091e+00,  4.49942693e+01,  6.85882276e-01,\n",
       "        5.08224376e+01,  5.60069871e+01,  4.41482232e+01,  3.68724034e+01,\n",
       "       -1.56861372e+01, -2.15935719e+01,  2.20397934e+01,  1.66994306e+02,\n",
       "       -4.14294421e+01, -1.48765892e+01, -4.69700833e+01,  1.72582034e+01,\n",
       "       -3.30868900e+00, -1.35622619e+01,  2.43907995e+01,  1.93159034e+01,\n",
       "        1.16670670e+01, -4.99597807e+00, -6.69410502e+00,  2.23745168e+00,\n",
       "        1.16670670e+01])"
      ]
     },
     "execution_count": 29,
     "metadata": {},
     "output_type": "execute_result"
    }
   ],
   "source": [
    "lr.coef_"
   ]
  },
  {
   "cell_type": "code",
   "execution_count": 30,
   "id": "dbb13f72-65f6-4756-9cef-4caf2a583f6f",
   "metadata": {},
   "outputs": [
    {
     "data": {
      "text/plain": [
       "-24.08985355844311"
      ]
     },
     "execution_count": 30,
     "metadata": {},
     "output_type": "execute_result"
    }
   ],
   "source": [
    "lr.intercept_"
   ]
  },
  {
   "cell_type": "code",
   "execution_count": 37,
   "id": "068f830b-943e-435a-9451-e5d62401a0ae",
   "metadata": {},
   "outputs": [
    {
     "data": {
      "image/png": "[encoded data removed]",
      "text/plain": [
       "<Figure size 640x480 with 1 Axes>"
      ]
     },
     "metadata": {},
     "output_type": "display_data"
    }
   ],
   "source": [
    "import matplotlib.pyplot as plt\n",
    "# Calculate residuals\n",
    "residuals = y_test - y_pred\n",
    "\n",
    "# Plot residuals against predicted values\n",
    "plt.hist(residuals, bins=800)  # Adjust the number of bins as needed\n",
    "plt.title('Residuals Histogram - With Outliers')\n",
    "plt.xlabel('Residuals')\n",
    "plt.ylabel('Frequency')\n",
    "plt.grid(True)\n",
    "plt.show()"
   ]
  },
  {
   "cell_type": "code",
   "execution_count": null,
   "id": "39cc3d06-e7d8-4433-9036-97b4439772f5",
   "metadata": {},
   "outputs": [],
   "source": []
  }
 ],
 "metadata": {
  "kernelspec": {
   "display_name": "Python 3 (ipykernel)",
   "language": "python",
   "name": "python3"
  },
  "language_info": {
   "codemirror_mode": {
    "name": "ipython",
    "version": 3
   },
   "file_extension": ".py",
   "mimetype": "text/x-python",
   "name": "python",
   "nbconvert_exporter": "python",
   "pygments_lexer": "ipython3",
   "version": "3.10.9"
  }
 },
 "nbformat": 4,
 "nbformat_minor": 5
}
