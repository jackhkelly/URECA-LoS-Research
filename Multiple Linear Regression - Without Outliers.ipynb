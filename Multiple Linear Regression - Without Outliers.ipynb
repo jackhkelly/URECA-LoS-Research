{
 "cells": [
  {
   "cell_type": "code",
   "execution_count": 1,
   "id": "ec3b5f6e",
   "metadata": {},
   "outputs": [],
   "source": [
    "#import the data frame\n",
    "import pandas as pd"
   ]
  },
  {
   "cell_type": "code",
   "execution_count": 2,
   "id": "5f7d45c8-b31d-401c-b172-8176cd5fdbe8",
   "metadata": {},
   "outputs": [],
   "source": [
    "df_wout_outliers = pd.read_csv(r'/Users/jackkelly/Desktop/MTSU/URECA Research/MIMIC-IV/2024 Data Sets/Version_1_Data_Set_WOut_Outliers.csv')"
   ]
  },
  {
   "cell_type": "code",
   "execution_count": 3,
   "id": "694aa5a7-3a63-4d72-9bbf-45a25e73b844",
   "metadata": {},
   "outputs": [
    {
     "data": {
      "text/plain": [
       "Index(['subject_id', 'hadm_id', 'anchor_age', 'drg_severity', 'drg_mortality',\n",
       "       'gender_M', 'race_ASIAN', 'race_ASIAN - ASIAN INDIAN',\n",
       "       'race_ASIAN - CHINESE', 'race_ASIAN - KOREAN',\n",
       "       'race_ASIAN - SOUTH EAST ASIAN', 'race_BLACK/AFRICAN',\n",
       "       'race_BLACK/AFRICAN AMERICAN', 'race_BLACK/CAPE VERDEAN',\n",
       "       'race_BLACK/CARIBBEAN ISLAND', 'race_HISPANIC OR LATINO',\n",
       "       'race_HISPANIC/LATINO - CENTRAL AMERICAN',\n",
       "       'race_HISPANIC/LATINO - COLUMBIAN', 'race_HISPANIC/LATINO - CUBAN',\n",
       "       'race_HISPANIC/LATINO - DOMINICAN', 'race_HISPANIC/LATINO - GUATEMALAN',\n",
       "       'race_HISPANIC/LATINO - HONDURAN', 'race_HISPANIC/LATINO - MEXICAN',\n",
       "       'race_HISPANIC/LATINO - PUERTO RICAN',\n",
       "       'race_HISPANIC/LATINO - SALVADORAN', 'race_MULTIPLE RACE/ETHNICITY',\n",
       "       'race_NATIVE HAWAIIAN OR OTHER PACIFIC ISLANDER', 'race_OTHER',\n",
       "       'race_PATIENT DECLINED TO ANSWER', 'race_PORTUGUESE',\n",
       "       'race_SOUTH AMERICAN', 'race_UNABLE TO OBTAIN', 'race_UNKNOWN',\n",
       "       'race_WHITE', 'race_WHITE - BRAZILIAN', 'race_WHITE - EASTERN EUROPEAN',\n",
       "       'race_WHITE - OTHER EUROPEAN', 'race_WHITE - RUSSIAN',\n",
       "       'insurance_Medicare', 'insurance_Other', 'language_ENGLISH',\n",
       "       'marital_status_MARRIED', 'marital_status_SINGLE',\n",
       "       'marital_status_WIDOWED', 'admission_type_DIRECT EMER.',\n",
       "       'admission_type_DIRECT OBSERVATION', 'admission_type_ELECTIVE',\n",
       "       'admission_type_EU OBSERVATION', 'admission_type_EW EMER.',\n",
       "       'admission_type_OBSERVATION ADMIT',\n",
       "       'admission_type_SURGICAL SAME DAY ADMISSION', 'admission_type_URGENT',\n",
       "       'admission_location_CLINIC REFERRAL',\n",
       "       'admission_location_EMERGENCY ROOM',\n",
       "       'admission_location_INFORMATION NOT AVAILABLE',\n",
       "       'admission_location_INTERNAL TRANSFER TO OR FROM PSYCH',\n",
       "       'admission_location_PACU', 'admission_location_PHYSICIAN REFERRAL',\n",
       "       'admission_location_PROCEDURE SITE',\n",
       "       'admission_location_TRANSFER FROM HOSPITAL',\n",
       "       'admission_location_TRANSFER FROM SKILLED NURSING FACILITY',\n",
       "       'admission_location_WALK-IN/SELF REFERRAL',\n",
       "       'admit-edout_categories_admit_as_leaving_ED',\n",
       "       'admit-edout_categories_observation',\n",
       "       'admit-edout_categories_spent_no_time_in_ED',\n",
       "       'admit-edout_categories_quartiles_q2',\n",
       "       'admit-edout_categories_quartiles_q3',\n",
       "       'admit-edout_categories_quartiles_q4',\n",
       "       'admit-edout_categories_quartiles_spent_no_time_in_ED',\n",
       "       'length_of_stay', 'length_of_stay_hours'],\n",
       "      dtype='object')"
      ]
     },
     "execution_count": 3,
     "metadata": {},
     "output_type": "execute_result"
    }
   ],
   "source": [
    "df_wout_outliers.columns"
   ]
  },
  {
   "cell_type": "code",
   "execution_count": 4,
   "id": "6ca44bb2-ef41-46b0-9a09-f5ae66a99ae2",
   "metadata": {},
   "outputs": [],
   "source": [
    "X = df_wout_outliers.drop(columns=['length_of_stay', 'length_of_stay_hours'])"
   ]
  },
  {
   "cell_type": "code",
   "execution_count": 5,
   "id": "fcd4f5e2-31f7-4f87-b88a-6a1507369724",
   "metadata": {},
   "outputs": [],
   "source": [
    "y = df_wout_outliers['length_of_stay_hours']"
   ]
  },
  {
   "cell_type": "code",
   "execution_count": 6,
   "id": "5549c2ad-f79f-45d9-a171-7309bb1004c9",
   "metadata": {},
   "outputs": [
    {
     "data": {
      "text/html": [
       "<div>\n",
       "<style scoped>\n",
       "    .dataframe tbody tr th:only-of-type {\n",
       "        vertical-align: middle;\n",
       "    }\n",
       "\n",
       "    .dataframe tbody tr th {\n",
       "        vertical-align: top;\n",
       "    }\n",
       "\n",
       "    .dataframe thead th {\n",
       "        text-align: right;\n",
       "    }\n",
       "</style>\n",
       "<table border=\"1\" class=\"dataframe\">\n",
       "  <thead>\n",
       "    <tr style=\"text-align: right;\">\n",
       "      <th></th>\n",
       "      <th>subject_id</th>\n",
       "      <th>hadm_id</th>\n",
       "      <th>anchor_age</th>\n",
       "      <th>drg_severity</th>\n",
       "      <th>drg_mortality</th>\n",
       "      <th>gender_M</th>\n",
       "      <th>race_ASIAN</th>\n",
       "      <th>race_ASIAN - ASIAN INDIAN</th>\n",
       "      <th>race_ASIAN - CHINESE</th>\n",
       "      <th>race_ASIAN - KOREAN</th>\n",
       "      <th>...</th>\n",
       "      <th>admission_location_TRANSFER FROM HOSPITAL</th>\n",
       "      <th>admission_location_TRANSFER FROM SKILLED NURSING FACILITY</th>\n",
       "      <th>admission_location_WALK-IN/SELF REFERRAL</th>\n",
       "      <th>admit-edout_categories_admit_as_leaving_ED</th>\n",
       "      <th>admit-edout_categories_observation</th>\n",
       "      <th>admit-edout_categories_spent_no_time_in_ED</th>\n",
       "      <th>admit-edout_categories_quartiles_q2</th>\n",
       "      <th>admit-edout_categories_quartiles_q3</th>\n",
       "      <th>admit-edout_categories_quartiles_q4</th>\n",
       "      <th>admit-edout_categories_quartiles_spent_no_time_in_ED</th>\n",
       "    </tr>\n",
       "  </thead>\n",
       "  <tbody>\n",
       "    <tr>\n",
       "      <th>0</th>\n",
       "      <td>10000032</td>\n",
       "      <td>22595853</td>\n",
       "      <td>52</td>\n",
       "      <td>2.0</td>\n",
       "      <td>2.0</td>\n",
       "      <td>0</td>\n",
       "      <td>0</td>\n",
       "      <td>0</td>\n",
       "      <td>0</td>\n",
       "      <td>0</td>\n",
       "      <td>...</td>\n",
       "      <td>1</td>\n",
       "      <td>0</td>\n",
       "      <td>0</td>\n",
       "      <td>0</td>\n",
       "      <td>0</td>\n",
       "      <td>0</td>\n",
       "      <td>0</td>\n",
       "      <td>1</td>\n",
       "      <td>0</td>\n",
       "      <td>0</td>\n",
       "    </tr>\n",
       "    <tr>\n",
       "      <th>1</th>\n",
       "      <td>10000032</td>\n",
       "      <td>22841357</td>\n",
       "      <td>52</td>\n",
       "      <td>3.0</td>\n",
       "      <td>2.0</td>\n",
       "      <td>0</td>\n",
       "      <td>0</td>\n",
       "      <td>0</td>\n",
       "      <td>0</td>\n",
       "      <td>0</td>\n",
       "      <td>...</td>\n",
       "      <td>0</td>\n",
       "      <td>0</td>\n",
       "      <td>0</td>\n",
       "      <td>0</td>\n",
       "      <td>0</td>\n",
       "      <td>0</td>\n",
       "      <td>0</td>\n",
       "      <td>0</td>\n",
       "      <td>0</td>\n",
       "      <td>0</td>\n",
       "    </tr>\n",
       "    <tr>\n",
       "      <th>2</th>\n",
       "      <td>10000032</td>\n",
       "      <td>25742920</td>\n",
       "      <td>52</td>\n",
       "      <td>3.0</td>\n",
       "      <td>2.0</td>\n",
       "      <td>0</td>\n",
       "      <td>0</td>\n",
       "      <td>0</td>\n",
       "      <td>0</td>\n",
       "      <td>0</td>\n",
       "      <td>...</td>\n",
       "      <td>0</td>\n",
       "      <td>0</td>\n",
       "      <td>0</td>\n",
       "      <td>0</td>\n",
       "      <td>0</td>\n",
       "      <td>0</td>\n",
       "      <td>1</td>\n",
       "      <td>0</td>\n",
       "      <td>0</td>\n",
       "      <td>0</td>\n",
       "    </tr>\n",
       "    <tr>\n",
       "      <th>3</th>\n",
       "      <td>10000032</td>\n",
       "      <td>29079034</td>\n",
       "      <td>52</td>\n",
       "      <td>3.0</td>\n",
       "      <td>3.0</td>\n",
       "      <td>0</td>\n",
       "      <td>0</td>\n",
       "      <td>0</td>\n",
       "      <td>0</td>\n",
       "      <td>0</td>\n",
       "      <td>...</td>\n",
       "      <td>0</td>\n",
       "      <td>0</td>\n",
       "      <td>0</td>\n",
       "      <td>0</td>\n",
       "      <td>0</td>\n",
       "      <td>0</td>\n",
       "      <td>0</td>\n",
       "      <td>1</td>\n",
       "      <td>0</td>\n",
       "      <td>0</td>\n",
       "    </tr>\n",
       "    <tr>\n",
       "      <th>4</th>\n",
       "      <td>10000084</td>\n",
       "      <td>23052089</td>\n",
       "      <td>72</td>\n",
       "      <td>1.0</td>\n",
       "      <td>1.0</td>\n",
       "      <td>1</td>\n",
       "      <td>0</td>\n",
       "      <td>0</td>\n",
       "      <td>0</td>\n",
       "      <td>0</td>\n",
       "      <td>...</td>\n",
       "      <td>0</td>\n",
       "      <td>0</td>\n",
       "      <td>1</td>\n",
       "      <td>0</td>\n",
       "      <td>0</td>\n",
       "      <td>0</td>\n",
       "      <td>0</td>\n",
       "      <td>1</td>\n",
       "      <td>0</td>\n",
       "      <td>0</td>\n",
       "    </tr>\n",
       "    <tr>\n",
       "      <th>...</th>\n",
       "      <td>...</td>\n",
       "      <td>...</td>\n",
       "      <td>...</td>\n",
       "      <td>...</td>\n",
       "      <td>...</td>\n",
       "      <td>...</td>\n",
       "      <td>...</td>\n",
       "      <td>...</td>\n",
       "      <td>...</td>\n",
       "      <td>...</td>\n",
       "      <td>...</td>\n",
       "      <td>...</td>\n",
       "      <td>...</td>\n",
       "      <td>...</td>\n",
       "      <td>...</td>\n",
       "      <td>...</td>\n",
       "      <td>...</td>\n",
       "      <td>...</td>\n",
       "      <td>...</td>\n",
       "      <td>...</td>\n",
       "      <td>...</td>\n",
       "    </tr>\n",
       "    <tr>\n",
       "      <th>287028</th>\n",
       "      <td>19999784</td>\n",
       "      <td>29956342</td>\n",
       "      <td>57</td>\n",
       "      <td>2.0</td>\n",
       "      <td>2.0</td>\n",
       "      <td>1</td>\n",
       "      <td>0</td>\n",
       "      <td>0</td>\n",
       "      <td>0</td>\n",
       "      <td>0</td>\n",
       "      <td>...</td>\n",
       "      <td>0</td>\n",
       "      <td>0</td>\n",
       "      <td>0</td>\n",
       "      <td>0</td>\n",
       "      <td>0</td>\n",
       "      <td>1</td>\n",
       "      <td>0</td>\n",
       "      <td>0</td>\n",
       "      <td>0</td>\n",
       "      <td>1</td>\n",
       "    </tr>\n",
       "    <tr>\n",
       "      <th>287029</th>\n",
       "      <td>19999828</td>\n",
       "      <td>25744818</td>\n",
       "      <td>46</td>\n",
       "      <td>3.0</td>\n",
       "      <td>2.0</td>\n",
       "      <td>0</td>\n",
       "      <td>0</td>\n",
       "      <td>0</td>\n",
       "      <td>0</td>\n",
       "      <td>0</td>\n",
       "      <td>...</td>\n",
       "      <td>1</td>\n",
       "      <td>0</td>\n",
       "      <td>0</td>\n",
       "      <td>0</td>\n",
       "      <td>0</td>\n",
       "      <td>0</td>\n",
       "      <td>0</td>\n",
       "      <td>1</td>\n",
       "      <td>0</td>\n",
       "      <td>0</td>\n",
       "    </tr>\n",
       "    <tr>\n",
       "      <th>287030</th>\n",
       "      <td>19999840</td>\n",
       "      <td>21033226</td>\n",
       "      <td>58</td>\n",
       "      <td>4.0</td>\n",
       "      <td>4.0</td>\n",
       "      <td>1</td>\n",
       "      <td>0</td>\n",
       "      <td>0</td>\n",
       "      <td>0</td>\n",
       "      <td>0</td>\n",
       "      <td>...</td>\n",
       "      <td>0</td>\n",
       "      <td>0</td>\n",
       "      <td>0</td>\n",
       "      <td>0</td>\n",
       "      <td>0</td>\n",
       "      <td>0</td>\n",
       "      <td>0</td>\n",
       "      <td>0</td>\n",
       "      <td>1</td>\n",
       "      <td>0</td>\n",
       "    </tr>\n",
       "    <tr>\n",
       "      <th>287031</th>\n",
       "      <td>19999840</td>\n",
       "      <td>26071774</td>\n",
       "      <td>58</td>\n",
       "      <td>2.0</td>\n",
       "      <td>1.0</td>\n",
       "      <td>1</td>\n",
       "      <td>0</td>\n",
       "      <td>0</td>\n",
       "      <td>0</td>\n",
       "      <td>0</td>\n",
       "      <td>...</td>\n",
       "      <td>0</td>\n",
       "      <td>0</td>\n",
       "      <td>0</td>\n",
       "      <td>0</td>\n",
       "      <td>0</td>\n",
       "      <td>0</td>\n",
       "      <td>0</td>\n",
       "      <td>0</td>\n",
       "      <td>1</td>\n",
       "      <td>0</td>\n",
       "    </tr>\n",
       "    <tr>\n",
       "      <th>287032</th>\n",
       "      <td>19999987</td>\n",
       "      <td>23865745</td>\n",
       "      <td>57</td>\n",
       "      <td>4.0</td>\n",
       "      <td>4.0</td>\n",
       "      <td>0</td>\n",
       "      <td>0</td>\n",
       "      <td>0</td>\n",
       "      <td>0</td>\n",
       "      <td>0</td>\n",
       "      <td>...</td>\n",
       "      <td>0</td>\n",
       "      <td>0</td>\n",
       "      <td>0</td>\n",
       "      <td>0</td>\n",
       "      <td>0</td>\n",
       "      <td>0</td>\n",
       "      <td>0</td>\n",
       "      <td>1</td>\n",
       "      <td>0</td>\n",
       "      <td>0</td>\n",
       "    </tr>\n",
       "  </tbody>\n",
       "</table>\n",
       "<p>287033 rows × 69 columns</p>\n",
       "</div>"
      ],
      "text/plain": [
       "        subject_id   hadm_id  anchor_age  drg_severity  drg_mortality  \\\n",
       "0         10000032  22595853          52           2.0            2.0   \n",
       "1         10000032  22841357          52           3.0            2.0   \n",
       "2         10000032  25742920          52           3.0            2.0   \n",
       "3         10000032  29079034          52           3.0            3.0   \n",
       "4         10000084  23052089          72           1.0            1.0   \n",
       "...            ...       ...         ...           ...            ...   \n",
       "287028    19999784  29956342          57           2.0            2.0   \n",
       "287029    19999828  25744818          46           3.0            2.0   \n",
       "287030    19999840  21033226          58           4.0            4.0   \n",
       "287031    19999840  26071774          58           2.0            1.0   \n",
       "287032    19999987  23865745          57           4.0            4.0   \n",
       "\n",
       "        gender_M  race_ASIAN  race_ASIAN - ASIAN INDIAN  race_ASIAN - CHINESE  \\\n",
       "0              0           0                          0                     0   \n",
       "1              0           0                          0                     0   \n",
       "2              0           0                          0                     0   \n",
       "3              0           0                          0                     0   \n",
       "4              1           0                          0                     0   \n",
       "...          ...         ...                        ...                   ...   \n",
       "287028         1           0                          0                     0   \n",
       "287029         0           0                          0                     0   \n",
       "287030         1           0                          0                     0   \n",
       "287031         1           0                          0                     0   \n",
       "287032         0           0                          0                     0   \n",
       "\n",
       "        race_ASIAN - KOREAN  ...  admission_location_TRANSFER FROM HOSPITAL  \\\n",
       "0                         0  ...                                          1   \n",
       "1                         0  ...                                          0   \n",
       "2                         0  ...                                          0   \n",
       "3                         0  ...                                          0   \n",
       "4                         0  ...                                          0   \n",
       "...                     ...  ...                                        ...   \n",
       "287028                    0  ...                                          0   \n",
       "287029                    0  ...                                          1   \n",
       "287030                    0  ...                                          0   \n",
       "287031                    0  ...                                          0   \n",
       "287032                    0  ...                                          0   \n",
       "\n",
       "        admission_location_TRANSFER FROM SKILLED NURSING FACILITY  \\\n",
       "0                                                       0           \n",
       "1                                                       0           \n",
       "2                                                       0           \n",
       "3                                                       0           \n",
       "4                                                       0           \n",
       "...                                                   ...           \n",
       "287028                                                  0           \n",
       "287029                                                  0           \n",
       "287030                                                  0           \n",
       "287031                                                  0           \n",
       "287032                                                  0           \n",
       "\n",
       "        admission_location_WALK-IN/SELF REFERRAL  \\\n",
       "0                                              0   \n",
       "1                                              0   \n",
       "2                                              0   \n",
       "3                                              0   \n",
       "4                                              1   \n",
       "...                                          ...   \n",
       "287028                                         0   \n",
       "287029                                         0   \n",
       "287030                                         0   \n",
       "287031                                         0   \n",
       "287032                                         0   \n",
       "\n",
       "        admit-edout_categories_admit_as_leaving_ED  \\\n",
       "0                                                0   \n",
       "1                                                0   \n",
       "2                                                0   \n",
       "3                                                0   \n",
       "4                                                0   \n",
       "...                                            ...   \n",
       "287028                                           0   \n",
       "287029                                           0   \n",
       "287030                                           0   \n",
       "287031                                           0   \n",
       "287032                                           0   \n",
       "\n",
       "        admit-edout_categories_observation  \\\n",
       "0                                        0   \n",
       "1                                        0   \n",
       "2                                        0   \n",
       "3                                        0   \n",
       "4                                        0   \n",
       "...                                    ...   \n",
       "287028                                   0   \n",
       "287029                                   0   \n",
       "287030                                   0   \n",
       "287031                                   0   \n",
       "287032                                   0   \n",
       "\n",
       "        admit-edout_categories_spent_no_time_in_ED  \\\n",
       "0                                                0   \n",
       "1                                                0   \n",
       "2                                                0   \n",
       "3                                                0   \n",
       "4                                                0   \n",
       "...                                            ...   \n",
       "287028                                           1   \n",
       "287029                                           0   \n",
       "287030                                           0   \n",
       "287031                                           0   \n",
       "287032                                           0   \n",
       "\n",
       "        admit-edout_categories_quartiles_q2  \\\n",
       "0                                         0   \n",
       "1                                         0   \n",
       "2                                         1   \n",
       "3                                         0   \n",
       "4                                         0   \n",
       "...                                     ...   \n",
       "287028                                    0   \n",
       "287029                                    0   \n",
       "287030                                    0   \n",
       "287031                                    0   \n",
       "287032                                    0   \n",
       "\n",
       "        admit-edout_categories_quartiles_q3  \\\n",
       "0                                         1   \n",
       "1                                         0   \n",
       "2                                         0   \n",
       "3                                         1   \n",
       "4                                         1   \n",
       "...                                     ...   \n",
       "287028                                    0   \n",
       "287029                                    1   \n",
       "287030                                    0   \n",
       "287031                                    0   \n",
       "287032                                    1   \n",
       "\n",
       "        admit-edout_categories_quartiles_q4  \\\n",
       "0                                         0   \n",
       "1                                         0   \n",
       "2                                         0   \n",
       "3                                         0   \n",
       "4                                         0   \n",
       "...                                     ...   \n",
       "287028                                    0   \n",
       "287029                                    0   \n",
       "287030                                    1   \n",
       "287031                                    1   \n",
       "287032                                    0   \n",
       "\n",
       "        admit-edout_categories_quartiles_spent_no_time_in_ED  \n",
       "0                                                       0     \n",
       "1                                                       0     \n",
       "2                                                       0     \n",
       "3                                                       0     \n",
       "4                                                       0     \n",
       "...                                                   ...     \n",
       "287028                                                  1     \n",
       "287029                                                  0     \n",
       "287030                                                  0     \n",
       "287031                                                  0     \n",
       "287032                                                  0     \n",
       "\n",
       "[287033 rows x 69 columns]"
      ]
     },
     "execution_count": 6,
     "metadata": {},
     "output_type": "execute_result"
    }
   ],
   "source": [
    "X"
   ]
  },
  {
   "cell_type": "code",
   "execution_count": 7,
   "id": "e71e54dd-23fe-4096-b5ca-6080fc0223db",
   "metadata": {},
   "outputs": [
    {
     "data": {
      "text/plain": [
       "0          18.866667\n",
       "1          24.366667\n",
       "2          42.100000\n",
       "3          53.333333\n",
       "4         108.933333\n",
       "             ...    \n",
       "287028    132.733333\n",
       "287029    240.266667\n",
       "287030    167.916667\n",
       "287031     83.800000\n",
       "287032    207.316667\n",
       "Name: length_of_stay_hours, Length: 287033, dtype: float64"
      ]
     },
     "execution_count": 7,
     "metadata": {},
     "output_type": "execute_result"
    }
   ],
   "source": [
    "y"
   ]
  },
  {
   "cell_type": "code",
   "execution_count": 8,
   "id": "b6477995-bb82-4eb2-9ee0-0d2cc37c2068",
   "metadata": {},
   "outputs": [],
   "source": [
    "from sklearn.model_selection import train_test_split"
   ]
  },
  {
   "cell_type": "code",
   "execution_count": 9,
   "id": "f743ab87-f19b-4cea-af4d-6e81136e08e0",
   "metadata": {},
   "outputs": [],
   "source": [
    "X_train, X_test, y_train, y_test = train_test_split(X, y, test_size=0.2, random_state=0)"
   ]
  },
  {
   "cell_type": "code",
   "execution_count": 10,
   "id": "cdcdddde-fd60-45db-bb59-09eff677749b",
   "metadata": {},
   "outputs": [],
   "source": [
    "from sklearn.linear_model import LinearRegression"
   ]
  },
  {
   "cell_type": "code",
   "execution_count": 11,
   "id": "36c2c9ce-c47e-410e-8690-76d8cc7c3a96",
   "metadata": {},
   "outputs": [],
   "source": [
    "lr = LinearRegression()"
   ]
  },
  {
   "cell_type": "code",
   "execution_count": 12,
   "id": "dfb530b8-c410-483f-a0b3-e8c58e3de5d9",
   "metadata": {},
   "outputs": [
    {
     "data": {
      "text/html": [
       "<style>#sk-container-id-1 {color: black;background-color: white;}#sk-container-id-1 pre{padding: 0;}#sk-container-id-1 div.sk-toggleable {background-color: white;}#sk-container-id-1 label.sk-toggleable__label {cursor: pointer;display: block;width: 100%;margin-bottom: 0;padding: 0.3em;box-sizing: border-box;text-align: center;}#sk-container-id-1 label.sk-toggleable__label-arrow:before {content: \"▸\";float: left;margin-right: 0.25em;color: #696969;}#sk-container-id-1 label.sk-toggleable__label-arrow:hover:before {color: black;}#sk-container-id-1 div.sk-estimator:hover label.sk-toggleable__label-arrow:before {color: black;}#sk-container-id-1 div.sk-toggleable__content {max-height: 0;max-width: 0;overflow: hidden;text-align: left;background-color: #f0f8ff;}#sk-container-id-1 div.sk-toggleable__content pre {margin: 0.2em;color: black;border-radius: 0.25em;background-color: #f0f8ff;}#sk-container-id-1 input.sk-toggleable__control:checked~div.sk-toggleable__content {max-height: 200px;max-width: 100%;overflow: auto;}#sk-container-id-1 input.sk-toggleable__control:checked~label.sk-toggleable__label-arrow:before {content: \"▾\";}#sk-container-id-1 div.sk-estimator input.sk-toggleable__control:checked~label.sk-toggleable__label {background-color: #d4ebff;}#sk-container-id-1 div.sk-label input.sk-toggleable__control:checked~label.sk-toggleable__label {background-color: #d4ebff;}#sk-container-id-1 input.sk-hidden--visually {border: 0;clip: rect(1px 1px 1px 1px);clip: rect(1px, 1px, 1px, 1px);height: 1px;margin: -1px;overflow: hidden;padding: 0;position: absolute;width: 1px;}#sk-container-id-1 div.sk-estimator {font-family: monospace;background-color: #f0f8ff;border: 1px dotted black;border-radius: 0.25em;box-sizing: border-box;margin-bottom: 0.5em;}#sk-container-id-1 div.sk-estimator:hover {background-color: #d4ebff;}#sk-container-id-1 div.sk-parallel-item::after {content: \"\";width: 100%;border-bottom: 1px solid gray;flex-grow: 1;}#sk-container-id-1 div.sk-label:hover label.sk-toggleable__label {background-color: #d4ebff;}#sk-container-id-1 div.sk-serial::before {content: \"\";position: absolute;border-left: 1px solid gray;box-sizing: border-box;top: 0;bottom: 0;left: 50%;z-index: 0;}#sk-container-id-1 div.sk-serial {display: flex;flex-direction: column;align-items: center;background-color: white;padding-right: 0.2em;padding-left: 0.2em;position: relative;}#sk-container-id-1 div.sk-item {position: relative;z-index: 1;}#sk-container-id-1 div.sk-parallel {display: flex;align-items: stretch;justify-content: center;background-color: white;position: relative;}#sk-container-id-1 div.sk-item::before, #sk-container-id-1 div.sk-parallel-item::before {content: \"\";position: absolute;border-left: 1px solid gray;box-sizing: border-box;top: 0;bottom: 0;left: 50%;z-index: -1;}#sk-container-id-1 div.sk-parallel-item {display: flex;flex-direction: column;z-index: 1;position: relative;background-color: white;}#sk-container-id-1 div.sk-parallel-item:first-child::after {align-self: flex-end;width: 50%;}#sk-container-id-1 div.sk-parallel-item:last-child::after {align-self: flex-start;width: 50%;}#sk-container-id-1 div.sk-parallel-item:only-child::after {width: 0;}#sk-container-id-1 div.sk-dashed-wrapped {border: 1px dashed gray;margin: 0 0.4em 0.5em 0.4em;box-sizing: border-box;padding-bottom: 0.4em;background-color: white;}#sk-container-id-1 div.sk-label label {font-family: monospace;font-weight: bold;display: inline-block;line-height: 1.2em;}#sk-container-id-1 div.sk-label-container {text-align: center;}#sk-container-id-1 div.sk-container {/* jupyter's `normalize.less` sets `[hidden] { display: none; }` but bootstrap.min.css set `[hidden] { display: none !important; }` so we also need the `!important` here to be able to override the default hidden behavior on the sphinx rendered scikit-learn.org. See: https://github.com/scikit-learn/scikit-learn/issues/21755 */display: inline-block !important;position: relative;}#sk-container-id-1 div.sk-text-repr-fallback {display: none;}</style><div id=\"sk-container-id-1\" class=\"sk-top-container\"><div class=\"sk-text-repr-fallback\"><pre>LinearRegression()</pre><b>In a Jupyter environment, please rerun this cell to show the HTML representation or trust the notebook. <br />On GitHub, the HTML representation is unable to render, please try loading this page with nbviewer.org.</b></div><div class=\"sk-container\" hidden><div class=\"sk-item\"><div class=\"sk-estimator sk-toggleable\"><input class=\"sk-toggleable__control sk-hidden--visually\" id=\"sk-estimator-id-1\" type=\"checkbox\" checked><label for=\"sk-estimator-id-1\" class=\"sk-toggleable__label sk-toggleable__label-arrow\">LinearRegression</label><div class=\"sk-toggleable__content\"><pre>LinearRegression()</pre></div></div></div></div></div>"
      ],
      "text/plain": [
       "LinearRegression()"
      ]
     },
     "execution_count": 12,
     "metadata": {},
     "output_type": "execute_result"
    }
   ],
   "source": [
    "lr.fit(X_train, y_train)"
   ]
  },
  {
   "cell_type": "code",
   "execution_count": 13,
   "id": "0ddfc1a1-9f6f-4fac-9ef6-74d053fc687b",
   "metadata": {},
   "outputs": [
    {
     "data": {
      "text/plain": [
       "0.2243105679627404"
      ]
     },
     "execution_count": 13,
     "metadata": {},
     "output_type": "execute_result"
    }
   ],
   "source": [
    "lr.score(X_test, y_test)"
   ]
  },
  {
   "cell_type": "code",
   "execution_count": 14,
   "id": "60b6f005-075e-4b50-8ad7-0959f1196535",
   "metadata": {},
   "outputs": [
    {
     "data": {
      "text/plain": [
       "0.2236049396482055"
      ]
     },
     "execution_count": 14,
     "metadata": {},
     "output_type": "execute_result"
    }
   ],
   "source": [
    "lr.score(X_train, y_train)"
   ]
  },
  {
   "cell_type": "code",
   "execution_count": 15,
   "id": "8a616c93-fc7c-453d-8736-96bacc31c143",
   "metadata": {},
   "outputs": [],
   "source": [
    "from sklearn.metrics import mean_absolute_error, mean_squared_error, r2_score"
   ]
  },
  {
   "cell_type": "code",
   "execution_count": 16,
   "id": "64426f6f-4899-4816-a110-cfa43c28301b",
   "metadata": {},
   "outputs": [],
   "source": [
    "y_pred = lr.predict(X_test)"
   ]
  },
  {
   "cell_type": "code",
   "execution_count": 17,
   "id": "fc2a8942-3191-4007-b384-048d4c344325",
   "metadata": {},
   "outputs": [
    {
     "data": {
      "text/plain": [
       "64.38067331300869"
      ]
     },
     "execution_count": 17,
     "metadata": {},
     "output_type": "execute_result"
    }
   ],
   "source": [
    "mean_absolute_error(y_test, y_pred)"
   ]
  },
  {
   "cell_type": "code",
   "execution_count": 18,
   "id": "e657f1ad-92bd-4429-ba27-be95974bf5eb",
   "metadata": {},
   "outputs": [
    {
     "data": {
      "text/plain": [
       "8552.117021660917"
      ]
     },
     "execution_count": 18,
     "metadata": {},
     "output_type": "execute_result"
    }
   ],
   "source": [
    "mean_squared_error(y_test, y_pred)"
   ]
  },
  {
   "cell_type": "code",
   "execution_count": 19,
   "id": "665af5d0-1d24-4801-a08c-e9bb7bc96043",
   "metadata": {},
   "outputs": [
    {
     "data": {
      "text/plain": [
       "0.2243105679627404"
      ]
     },
     "execution_count": 19,
     "metadata": {},
     "output_type": "execute_result"
    }
   ],
   "source": [
    "r2_score(y_test, y_pred)"
   ]
  },
  {
   "cell_type": "code",
   "execution_count": 20,
   "id": "75742e5c-dce3-499f-b30c-b412b7d5e9d0",
   "metadata": {},
   "outputs": [
    {
     "data": {
      "text/plain": [
       "array([ 7.50213828e-09,  4.18765507e-09, -2.14134083e-01,  3.68180220e+01,\n",
       "        1.76958185e+01, -8.98033098e-01, -3.26194815e+00,  1.04237221e+01,\n",
       "       -3.37379043e+00,  3.91814762e+00, -3.96237160e+00,  1.86863441e+00,\n",
       "       -6.72305507e+00, -5.04693084e+00,  5.13042817e-01, -1.27350557e+01,\n",
       "       -1.66300375e+01, -1.42422534e+01,  2.12207680e+00, -3.09058040e+00,\n",
       "       -1.17243557e+00, -1.13899349e+01,  1.22577890e+01, -7.55578921e+00,\n",
       "       -4.77807861e+00, -1.28883806e+01, -1.95295844e+01, -1.37549979e+00,\n",
       "        5.28215370e-01, -5.50869930e+00,  2.29292315e+00, -8.91857736e+00,\n",
       "        2.51254262e+00, -2.33267630e+00,  3.48439844e+00, -1.04290984e+01,\n",
       "        2.45881378e+00, -1.07241197e+01, -5.82660835e+00, -1.99773492e+00,\n",
       "       -4.97707290e+00, -6.20584523e+00, -4.89858809e-01, -9.52420809e+00,\n",
       "        5.92356128e+01, -8.04714624e+00,  4.96595507e+01, -1.62343103e+00,\n",
       "        4.60274496e+01,  5.24735154e+01,  4.62524399e+01,  4.19566420e+01,\n",
       "       -7.55447235e+00, -8.45306144e+00,  2.04953486e-01,  1.02705413e+02,\n",
       "       -2.05617824e+01, -4.30577891e+00, -2.45611718e+01,  1.80283933e+01,\n",
       "        1.88909035e+00, -1.71122510e+00,  7.82180409e+00,  1.38000595e+01,\n",
       "        5.79551879e+00, -3.68534762e+00, -5.05810506e+00,  1.01535309e+00,\n",
       "        5.79551879e+00])"
      ]
     },
     "execution_count": 20,
     "metadata": {},
     "output_type": "execute_result"
    }
   ],
   "source": [
    "lr.coef_"
   ]
  },
  {
   "cell_type": "code",
   "execution_count": 21,
   "id": "dbb13f72-65f6-4756-9cef-4caf2a583f6f",
   "metadata": {},
   "outputs": [
    {
     "data": {
      "text/plain": [
       "-19.15850455780145"
      ]
     },
     "execution_count": 21,
     "metadata": {},
     "output_type": "execute_result"
    }
   ],
   "source": [
    "lr.intercept_"
   ]
  },
  {
   "cell_type": "code",
   "execution_count": 23,
   "id": "f507639d-a608-4a06-ab7c-de5539eb94be",
   "metadata": {},
   "outputs": [
    {
     "data": {
      "image/png": "[encoded data removed]",
      "text/plain": [
       "<Figure size 640x480 with 1 Axes>"
      ]
     },
     "metadata": {},
     "output_type": "display_data"
    }
   ],
   "source": [
    "import matplotlib.pyplot as plt\n",
    "# Calculate residuals\n",
    "residuals = y_test - y_pred\n",
    "\n",
    "# Plot residuals against predicted values\n",
    "plt.hist(residuals, bins=800)  # Adjust the number of bins as needed\n",
    "plt.title('Residuals Histogram - Without Outliers')\n",
    "plt.xlabel('Residuals')\n",
    "plt.ylabel('Frequency')\n",
    "plt.grid(True)\n",
    "plt.show()"
   ]
  },
  {
   "cell_type": "code",
   "execution_count": null,
   "id": "37f86e94-6d24-4f93-8f94-7397ad8b53b3",
   "metadata": {},
   "outputs": [],
   "source": []
  }
 ],
 "metadata": {
  "kernelspec": {
   "display_name": "Python 3 (ipykernel)",
   "language": "python",
   "name": "python3"
  },
  "language_info": {
   "codemirror_mode": {
    "name": "ipython",
    "version": 3
   },
   "file_extension": ".py",
   "mimetype": "text/x-python",
   "name": "python",
   "nbconvert_exporter": "python",
   "pygments_lexer": "ipython3",
   "version": "3.10.9"
  }
 },
 "nbformat": 4,
 "nbformat_minor": 5
}
